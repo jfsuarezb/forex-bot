{
 "cells": [
  {
   "cell_type": "code",
   "execution_count": 30,
   "metadata": {},
   "outputs": [],
   "source": [
    "import pandas as pd\n",
    "import datetime\n",
    "import numpy as np\n",
    "import math\n",
    "import re\n",
    "from matplotlib import pyplot as plt\n",
    "import tensorflow as tf\n",
    "\n",
    "coffee_prices = pd.read_csv('data/coffee-prices.csv')\n",
    "coffee_prices[\"date\"] = pd.to_datetime(coffee_prices['date'])\n",
    "mask = (coffee_prices['date'] >= datetime.datetime(2019,1,1)) & (coffee_prices['date'] <= datetime.datetime(2019,12,31))\n",
    "coffee_prices = coffee_prices.loc[mask]\n",
    "\n",
    "oil_prices = pd.read_csv('data/oil-prices.csv')\n",
    "oil_prices['date'] = pd.to_datetime(oil_prices['date'])\n",
    "mask = (oil_prices['date'] >= datetime.datetime(2019,1,1)) & (oil_prices['date'] <= datetime.datetime(2019,12,31))\n",
    "oil_prices = oil_prices.loc[mask]\n",
    "\n",
    "stock_prices = pd.read_csv('data/colcap-prices.csv')[['Fecha','ultimo']]\n",
    "stock_prices['Fecha'] = pd.to_datetime(stock_prices['Fecha'])\n",
    "stock_prices['ultimo'] = pd.to_numeric(stock_prices['ultimo'])\n",
    "stock_prices.columns = ['date','close']\n",
    "\n",
    "exchange_rates = pd.read_csv(\"data/exchange-rates.csv\")[[\"Date\",\"Open\"]]\n",
    "exchange_rates['Date'] = pd.to_datetime(exchange_rates['Date'])\n",
    "exchange_rates.columns = ['date','open']"
   ]
  },
  {
   "cell_type": "code",
   "execution_count": 58,
   "metadata": {
    "scrolled": false
   },
   "outputs": [
    {
     "name": "stdout",
     "output_type": "stream",
     "text": [
      "     coffee_change  oil_change  stock_change  dollar_change\n",
      "0           0.0265        0.61         15.73           5.50\n",
      "1          -0.0055        0.84          8.22         -63.94\n",
      "2           0.0345        1.82         11.49         -29.36\n",
      "3           0.0025        2.61          9.37         -15.20\n",
      "4          -0.0105        0.23          6.46           1.65\n",
      "..             ...         ...           ...            ...\n",
      "231         0.0350       -0.87         -3.86          16.50\n",
      "232        -0.0540        0.08         22.18         -20.50\n",
      "233         0.0410        0.66          1.58         -12.73\n",
      "234        -0.0210        0.55         -6.73         -10.02\n",
      "235         0.0520        0.04          1.32          13.75\n",
      "\n",
      "[236 rows x 4 columns]\n"
     ]
    }
   ],
   "source": [
    "all_data = pd.merge(coffee_prices, oil_prices, 'inner','date')\n",
    "all_data.columns = ['date','coffee','oil']\n",
    "all_data = pd.merge(all_data,stock_prices,'inner','date')\n",
    "all_data.columns = ['date','coffee','oil','stock']\n",
    "all_data = pd.merge(all_data,exchange_rates,'inner','date')\n",
    "all_data.columns = ['date','coffee','oil','stock','dollar']\n",
    "all_data = all_data.drop(columns=['date'])\n",
    "all_data = all_data.to_numpy()\n",
    "d1 = np.delete(all_data,0,0)\n",
    "d2 = np.delete(all_data, all_data.shape[0]-1,0)\n",
    "all_data = np.subtract(d1,d2)\n",
    "all_data = pd.DataFrame(all_data, columns=['coffee_change','oil_change','stock_change','dollar_change'])\n",
    "all_data.dollar_change = all_data.dollar_change.shift(-1)\n",
    "all_data.drop(all_data.tail(1).index,inplace=True)\n",
    "print(all_data)"
   ]
  },
  {
   "cell_type": "code",
   "execution_count": 126,
   "metadata": {
    "scrolled": true
   },
   "outputs": [
    {
     "name": "stdout",
     "output_type": "stream",
     "text": [
      "Epoch 1/5\n",
      "8/8 [==============================] - 0s 2ms/step - loss: 0.9938 - accuracy: 0.0000e+00\n",
      "Epoch 2/5\n",
      "8/8 [==============================] - 0s 2ms/step - loss: 0.9935 - accuracy: 0.0000e+00\n",
      "Epoch 3/5\n",
      "8/8 [==============================] - 0s 2ms/step - loss: 0.9932 - accuracy: 0.0000e+00\n",
      "Epoch 4/5\n",
      "8/8 [==============================] - 0s 2ms/step - loss: 0.9930 - accuracy: 0.0000e+00\n",
      "Epoch 5/5\n",
      "8/8 [==============================] - 0s 2ms/step - loss: 0.9927 - accuracy: 0.0000e+00\n"
     ]
    },
    {
     "data": {
      "text/plain": [
       "<tensorflow.python.keras.callbacks.History at 0x1430f0b10>"
      ]
     },
     "execution_count": 126,
     "metadata": {},
     "output_type": "execute_result"
    }
   ],
   "source": [
    "trainning_data = all_data.to_numpy()\n",
    "trainning_data = np.swapaxes(trainning_data, 0, 1)\n",
    "coffee, oil, stock, dollar = trainning_data\n",
    "\n",
    "coffee = tf.keras.utils.normalize(coffee)\n",
    "oil = tf.keras.utils.normalize(oil)\n",
    "stock = tf.keras.utils.normalize(stock)\n",
    "\n",
    "def categorize(array):\n",
    "    newArray = []\n",
    "    for i in array:\n",
    "        if i > 0:\n",
    "            newArray.append(1)\n",
    "        else:\n",
    "            newArray.append(-1)\n",
    "    return newArray\n",
    "\n",
    "labels = categorize(dollar)\n",
    "\n",
    "trainning_data = np.array([coffee,oil,stock]).T.tolist()\n",
    "\n",
    "model = tf.keras.models.Sequential()\n",
    "\n",
    "model.add(tf.keras.layers.Flatten())\n",
    "model.add(tf.keras.layers.Dense(1,activation=tf.nn.tanh))\n",
    "\n",
    "model.compile(optimizer='adam', loss=tf.keras.losses.Hinge(), metrics=['accuracy'])\n",
    "\n",
    "model.fit(trainning_data, labels, epochs=5)"
   ]
  },
  {
   "cell_type": "code",
   "execution_count": 124,
   "metadata": {},
   "outputs": [
    {
     "data": {
      "text/plain": [
       "<matplotlib.collections.PathCollection at 0x142f5f690>"
      ]
     },
     "execution_count": 124,
     "metadata": {},
     "output_type": "execute_result"
    },
    {
     "data": {
      "image/png": "[encoded data removed]",
      "text/plain": [
       "<Figure size 432x288 with 1 Axes>"
      ]
     },
     "metadata": {
      "needs_background": "light"
     },
     "output_type": "display_data"
    }
   ],
   "source": [
    "plt.scatter(coffee, labels)"
   ]
  },
  {
   "cell_type": "code",
   "execution_count": 127,
   "metadata": {},
   "outputs": [
    {
     "data": {
      "text/plain": [
       "<matplotlib.collections.PathCollection at 0x142e2d390>"
      ]
     },
     "execution_count": 127,
     "metadata": {},
     "output_type": "execute_result"
    },
    {
     "data": {
      "image/png": "[encoded data removed]",
      "text/plain": [
       "<Figure size 432x288 with 1 Axes>"
      ]
     },
     "metadata": {
      "needs_background": "light"
     },
     "output_type": "display_data"
    }
   ],
   "source": [
    "plt.scatter(oil,dollar)"
   ]
  },
  {
   "cell_type": "code",
   "execution_count": 128,
   "metadata": {},
   "outputs": [
    {
     "data": {
      "text/plain": [
       "<matplotlib.collections.PathCollection at 0x1432c4750>"
      ]
     },
     "execution_count": 128,
     "metadata": {},
     "output_type": "execute_result"
    },
    {
     "data": {
      "image/png": "[encoded data removed]",
      "text/plain": [
       "<Figure size 432x288 with 1 Axes>"
      ]
     },
     "metadata": {
      "needs_background": "light"
     },
     "output_type": "display_data"
    }
   ],
   "source": [
    "plt.scatter(stock,labels)"
   ]
  },
  {
   "cell_type": "code",
   "execution_count": 129,
   "metadata": {},
   "outputs": [
    {
     "name": "stdout",
     "output_type": "stream",
     "text": [
      "[[[0.07510239179432833, 0.03178746695236061, 0.08360567308691445]], [[-0.015587288862973928, 0.043772905311447244, 0.0436896778623292]], [[0.09777481195865349, 0.09484129484146947, 0.06106987817982497]], [[0.007085131301351557, 0.1360086700748545, 0.04980198072627962]], [[-0.029757551465677042, 0.011985438359087006, 0.03433519695749967]], [[-0.011336210082162743, -0.05106838953002222, 0.02290784812489608]], [[-0.031174577725947228, -0.05888497976420882, 0.02561852156890794]], [[-0.04109376154784041, 0.07764479632625769, -0.0005846550565525255]], [[0.031174577725947856, 0.014590968437149205, -0.009301330445143047]], [[0.0, -0.013027650390311738, 0.00042520367749307534]], [[0.07226833927378765, 0.09223576476340727, 0.008132020332039205]], [[-0.04534484032865097, -0.05263170757685932, 0.05841235519549838]], [[0.0014170262602701854, -0.007816590234187338, 0.013712818599124791]], [[0.05384699789027271, 0.026055300780623476, 0.054426070719008506]], [[0.0425107878081106, 0.03074525492113588, 0.0462940503869693]], [[-0.11761317960243861, -0.0906724467165698, 0.025033866512356624]], [[-0.0014170262602701854, 0.06670156999839616, 0.03864038419210845]], [[-0.014170262602703742, 0.057842767732984086, 0.06484356081756891]], [[0.10769399578054606, -0.017717604530823772, -0.014031721357244899]], [[-0.06234915545189509, 0.07556037226380785, 0.07983199044917051]], [[0.05384699789027334, -0.03751963312409774, 0.06861724345531285]], [[-0.0212553939040553, -0.04585732937389745, 0.09806259812165122]], [[0.0184213413835143, 0.013027650390311738, -0.023864556399252782]], [[-0.03400863024648823, -0.06565935796717105, -0.08923962181368773]], [[-0.04817889284919134, 0.0036477421092873013, -0.017752253535301153]], [[-0.06801726049297646, -0.01667539249959904, -0.001860266089028126]], [[0.007085131301351557, 0.03699852710848538, 0.028222894093548043]], [[-0.04392781406838047, 0.03647742109287301, -0.0061654533236381115]], [[-0.029757551465677042, 0.02918193687429804, 0.02242949398771652]], [[0.0028340525205406857, 0.06149050984227138, 0.06404630392227045]], [[-0.0212553939040553, 0.028139724843073307, -0.05889070933267673]], [[0.009919183821892557, 0.04064626921777268, 0.004677240452415369]], [[-0.0410937615478401, 0.00260553007806257, -0.0007972568952984588]], [[0.009919183821892557, 0.0031266360936745654, 0.0704243590846545]], [[0.018137936131460263, -0.08806691663850723, 0.09641493387136903]], [[-0.06348277646011123, 0.004168848124899667, 0.05352251290433708]], [[0.0793534705751392, 0.07920811437309552, -0.0175928021562417]], [[0.004251078780810871, 0.015112074452761571, -0.04448693475762766]], [[0.06801726049297646, -0.07556037226380823, 0.03763052545806406]], [[-0.08077049683540938, 0.04377290531144762, 0.008769825848278213]], [[0.06518320797243576, -0.00260553007806257, 0.0064312056220705285]], [[-0.02692349894513667, -0.017196498515211406, 0.07361338666584592]], [[-0.05242997163000253, 0.019802028593273974, -0.07557995367424822]], [[0.046761866588921154, -0.04325179929583488, -0.07882213171512611]], [[-0.036842682767028914, 0.05315281359247168, 0.12107674716591907]], [[-0.03400863024648823, 0.005211060156124769, 0.040181747523017675]], [[0.04676186658892147, 0.07191263015452093, 0.1437719934520692]], [[-0.014170262602703428, 0.01667539249959904, 0.07818432619888711]], [[0.0184213413835143, -0.0041688481249000375, 0.02450236191549179]], [[-0.026923498945136355, 0.030224148905523513, 0.14164597506460624]], [[-0.0056681050410813715, 0.0015633180468370975, 0.039012437409915036]], [[-0.05384699789027303, 0.05211060156124695, 0.07712131700515744]], [[0.0014170262602701854, -0.0072954842185746025, 0.016370341583451378]], [[-0.02550647268486617, -0.057842767732984086, -0.1812962179907591]], [[0.0410937615478401, 0.05211060156124695, 0.052300052331546755]], [[-0.04251078780811028, -0.025013088749398373, -0.1825718290232359]], [[0.004251078780810871, -0.005211060156124769, -0.014722677333169183]], [[0.014170262602703428, 0.04689954140512218, 0.09476726962108563]], [[-0.06801726049297614, 0.07295484218574602, -0.031039868456934076]], [[-0.012753236342433243, 0.04898396546757201, -0.012702959865081607]], [[0.10485994326000538, -0.0036477421092873013, 0.05915646163111036]], [[-0.0014170262602705, -0.01771760453082414, -0.0026043725246401015]], [[-0.059515102931354084, 0.05106838953002222, 0.05144964497656181]], [[-0.007085131301351871, 0.0661804639827838, 0.08780455940215026]], [[0.0198383676437848, -0.016675392499599408, 0.026840982141699474]], [[0.017004315123244115, 0.029703042889911147, 0.020250325140568286]], [[-0.11336210082162743, -0.052631707576859685, -0.07233777563337032]], [[0.004251078780811186, 0.013027650390311738, -0.03523875477216989]], [[0.028340525205406857, -0.022407558671336175, -0.17125078111000527]], [[-0.02550647268486617, 0.030224148905523513, 0.04613459900790985]], [[-0.09777481195865349, -0.014069862421536839, -0.0378431272968112]], [[0.11477912708189761, 0.10005235499759386, 0.0896648254911796]], [[0.011336210082162743, 0.030224148905523142, 0.020409776519627738]], [[-0.029757551465677358, -0.014590968437149205, 0.02737248673856431]], [[0.05271337688205688, -0.03804073913970974, -0.0019134165487158178]], [[0.026923498945136355, -0.10109456702881933, -0.01094899469542524]], [[-0.032024793482109654, 0.005211060156124769, -0.03917188878897328]], [[0.021538799156109022, 0.02292866468694854, -0.08897386951525411]], [[-0.03797630377524506, -0.10839005124739357, -0.06176083415575046]], [[-0.026923498945136355, 0.011985438359086635, -0.03529190523185637]], [[-0.012753236342433243, 0.01667539249959904, -0.03305958592502286]], [[-0.060932129191624586, -0.046378435389509816, -0.07387913896427954]], [[0.015587288862973614, 0.03751963312409812, 0.021525936173045095]], [[0.06518320797243576, -0.028660830858686044, 0.017327049857809286]], [[-0.0014170262602701854, 0.0036477421092873013, 0.041510509015182176]], [[-0.03400863024648823, -0.03543520906164791, -0.18374113913634094]], [[0.038259709027299096, 0.044294011327059984, -0.03561080798997648]], [[0.009919183821892557, 0.010943226327861905, -0.040181747523017675]], [[0.009919183821892242, 0.04689954140512218, 0.008025719412666239]], [[-0.07510239179432801, -0.008337696249799334, -0.015998288365645992]], [[0.02550647268486617, 0.018238710546436138, -0.09200344571738608]], [[0.08502157561622056, -0.005211060156124399, 0.056711540485529705]], [[-0.03259160398621804, -0.0833769624979952, -0.021153882955239713]], [[0.04959591910946216, -0.19645696788590117, -0.09184399433832663]], [[-0.0056681050410813715, 0.039082951170935215, 0.09173769341895366]], [[0.0779364443148687, 0.02657640679623584, -0.13835064656404186]], [[0.09777481195865349, -0.003647742109286931, 0.0974779430650987]], [[0.0807704968354097, -0.12350212570015551, 0.02838234547260749]], [[0.06376618171216528, -0.15528959265251574, -0.00031890275811890015]], [[0.029757551465677042, 0.0005211060156123658, 0.05501072577555982]], [[-0.18563044009541474, -0.10057346101320659, -0.07403859034333779]], [[0.08360454935595008, 0.05315281359247205, 0.034919852014050984]], [[-0.031174577725947228, 0.07087041812329582, 0.10539736155839197]], [[-0.06660023423270627, -0.03230857296797335, -0.05665839002584202]], [[-0.04534484032865097, -0.0015633180468374677, 0.11060610660767217]], [[0.058098076671084214, -0.1130800053879056, -0.03619546304652779]], [[-0.048178892849191655, 0.06513825195155869, 0.045337342112611395]], [[-0.038259709027299416, 0.004689954140512033, 0.02482126467360948]], [[0.0014170262602705, -0.02761861882746094, -0.04289242096703074]], [[-0.04959591910946216, 0.10005235499759423, 0.10374969730810978]], [[0.055264024150543524, -0.0062532721873495, 0.04480583751574656]], [[0.1360345209859526, 0.16362728890231545, 0.04480583751574656]], [[-0.03542565650675841, 0.024491982733786007, 0.0293390537469654]], [[0.1941325976570368, 0.014590968437149205, -0.012384057106962706]], [[-0.036559277514974564, 0.08025032640432025, -0.04326447418483612]], [[0.02493966218075778, 0.0005211060156123658, -0.01078954331636579]], [[0.08417135986005846, -0.051068389530021845, 0.006856409299562396]], [[0.01246983109037889, -0.11464332343474344, -0.02774453995636969]], [[0.11336210082162743, 0.05523723765492188, 0.10608831753431747]], [[-0.20546880773919954, 0.015112074452761571, 0.0922691980158185]], [[0.029757551465677042, 0.01146433234347427, 0.041563659474868654]], [[-0.04392781406838078, 0.14121973023097928, 0.06383370208352453]], [[0.029757551465677042, -0.018238710546436505, -0.002179168847148235]], [[-0.008502157561621742, 0.0031266360936749353, 0.024714963754237724]], [[0.10202589073946468, -0.035956315077260645, -0.0007441064356119755]], [[-0.13320046846541192, -0.0969257189039193, 0.07765282160202228]], [[0.05242997163000253, -0.04898396546757201, -0.0658534195516121]], [[0.03400863024648823, -0.07399705421697075, -0.10773598178459966]], [[-0.036842682767029226, 0.01771760453082414, 0.07138106735901241]], [[-0.06234915545189509, 0.023449770702560904, -0.0316245235134866]], [[-0.0793534705751392, 0.03699852710848538, 0.04097900441831613]], [[-0.0368426827670286, -0.03543520906164791, -0.05017403394408621]], [[-0.009919183821892557, -0.0010422120312247316, 0.0146695268734827]], [[-0.025506472684865857, 0.008337696249799334, -0.07924733539261919]], [[0.0396767352875696, 0.042209587264610146, 0.02498071605267014]], [[-0.04676186658892147, 0.06201161585788375, -0.09141879066083476]], [[0.004251078780811186, 0.02553419476501111, -0.031518222594112424]], [[-0.06801726049297646, -0.25482084163449764, -0.1304843785304363]], [[0.02550647268486617, 0.10578452116933136, 0.030827266618189353]], [[-0.07085131301351714, -0.05419502562369678, -0.21462155621421558]], [[0.0396767352875696, -0.05367391960808442, 0.05224690187186027]], [[0.009919183821892242, -0.05211060156124695, 0.17332364903778055]], [[-0.0028340525205406857, 0.09432018882585673, -0.04060695120051075]], [[-0.10060886447919418, 0.029703042889910776, -0.03507930339311044]], [[0.07368536553405783, 0.1078689452317812, 0.12431892520679697]], [[-0.05384699789027303, -0.09848903695075677, -0.20617063312405626]], [[0.0028340525205406857, -0.033871891014810446, 0.044593235677000624]], [[-0.048178892849191655, 0.01667539249959904, 0.09896615593632144]], [[-0.0396767352875696, 0.07034931210768346, 0.030030009722890893]], [[0.0396767352875696, -0.02761861882746094, -0.03667381718370735]], [[0.018421341383514613, -0.01667539249959904, -0.07759967114233579]], [[-0.02550647268486617, -0.06513825195155869, -0.11517704614071457]], [[0.04392781406838047, -0.028139724843073307, 0.07329448390772701]], [[0.009068968065730132, 0.07556037226380823, 0.06606602139035923]], [[0.03032436196978543, 0.04012516320215995, 0.027531938117623757]], [[-0.04619505608481308, 0.047420647420734915, 0.030136310642262652]], [[0.06489980272038141, -0.0833769624979952, 0.09120618882208882]], [[-0.0184213413835143, -0.06044829781104665, 0.01047064055824689]], [[0.029757551465677042, 0.12037548960648058, 0.02338620226207443]], [[-0.03400863024648823, 0.005732166171737135, 0.0077599671142326125]], [[0.04676186658892147, 0.006253272187349871, 0.0009567082743579089]], [[0.03400863024648823, 0.07451816023258312, 0.04900472383098237]], [[0.09494075943811281, -0.02657640679623621, -0.02094128111649378]], [[0.05101294536973234, -0.08910912866973233, 0.06861724345531285]], [[0.0056681050410813715, -0.027618618827460573, 0.01031118917918744]], [[-0.02408944642459567, -0.01928092257766161, -0.037524224538692294]], [[0.04392781406838016, 0.4346024170207997, 0.10646037075212406]], [[-0.1119450745613566, -0.20010470999518845, -0.014297473655677316]], [[0.0, -0.05575834367053425, -0.0030827266618196603]], [[-0.05668105041081371, 0.0, -0.017327049857809286]], [[0.0014170262602701854, -0.01406986242153647, 0.0006378055162390088]], [[0.017004315123244115, 0.04012516320215995, 0.015573084688154125]], [[0.004251078780811186, -0.07660258429503296, -0.032209178570039125]], [[0.05101294536973234, -0.043772905311447244, 0.027957141795115624]], [[-0.002834052520541, -0.0072954842185746025, 0.027000433520758923]], [[0.0014170262602701854, -0.015112074452761571, -0.0873793557246584]], [[0.007085131301352186, -0.0969257189039193, -0.03736477315963164]], [[0.0056681050410813715, -0.02553419476501111, 0.02370510502019333]], [[-0.0212553939040553, -0.04846285945195965, -0.04034119890207833]], [[0.04109376154783979, -0.013548756405924473, 0.07329448390772701]], [[-0.08643860187649076, 0.022407558671336543, 0.023545653641133882]], [[-0.05668105041081371, -0.0041688481249000375, 0.020675528818061364]], [[-0.036842682767028914, -0.0062532721873495, -0.0374710740790046]], [[-0.007085131301351557, -0.0005211060156123658, -0.0030827266618196603]], [[-0.05526402415054321, 0.04898396546757201, -0.031199319835993528]], [[0.0056681050410813715, 0.06201161585788375, 0.039437641087405696]], [[0.021255393904054985, -0.10161567304443132, -0.06362110024477738]], [[-0.02550647268486617, 0.03178746695236061, 0.0032953285005643852]], [[-0.0184213413835143, 0.024491982733786007, -0.004677240452414161]], [[0.07935347057513888, -0.0072954842185746025, -0.00010630091937417521]], [[0.018421341383514613, -0.024491982733786007, 0.1007201211059778]], [[0.07226833927378733, 0.04846285945195965, 0.08429662906283995]], [[-0.03259160398621773, 0.08806691663850723, -0.0005315045968660421]], [[-0.036842682767028914, 0.010943226327861905, 0.01451007549442325]], [[0.08502157561622056, 0.021365346640111443, 0.06643807460816462]], [[0.029757551465676726, -0.04794175343634728, -0.03481355109467802]], [[-0.04392781406838016, -0.013548756405924104, 0.05995371852640761]], [[0.011336210082162743, -0.02553419476501111, 0.0034016294199385603]], [[0.07368536553405783, -0.04325179929583488, -0.004092585395862844]], [[0.058098076671083895, 0.10526341515371863, 0.06766053518095495]], [[0.05101294536973234, 0.05211060156124695, 0.105291060639019]], [[0.06234915545189509, -0.046378435389509816, -0.04539049257229787]], [[0.031174577725947228, 0.03960405718654758, -0.007547365275487888]], [[0.009919183821892557, 0.005732166171737505, -0.1036433963887368]], [[-0.10911102204081624, -0.018238710546436505, -0.022376343528030036]], [[0.06660023423270564, 0.010943226327861905, -0.04124475671674855]], [[0.002834052520541, -0.016154286483986674, -0.055063876235246306]], [[-0.05384699789027271, 0.05054728351440948, 0.07095586368151933]], [[-0.017004315123244115, -0.03751963312409774, -0.023970857318625746]], [[-0.08077049683541002, -0.09848903695075677, -0.08057609688478248]], [[0.198383676437848, 0.09275687077901963, -0.037683675917750535]], [[0.1572899148900082, 0.08598249257605739, -0.004252036774922294]], [[-0.01842134138351493, -0.03543520906164791, 0.07520790045644163]], [[0.09068968065730194, 0.005732166171737135, -0.06925504897155066]], [[-0.052996782134110604, 0.02397087671817364, -0.019399917785583344]], [[0.05186316112589445, -0.006774378202962237, -0.05224690187186148]], [[0.03372522499443419, 0.0, 0.13069698036918223]], [[0.08643860187649076, -0.11203779335668086, -0.07223147471399735]], [[0.05101294536973234, 0.009379908281024436, -0.04480583751574535]], [[-0.07226833927378765, 0.12037548960648058, 0.11810032142347236]], [[0.10202589073946468, -0.0020844240624498336, 0.013925420437871934]], [[-0.0014170262602701854, 0.04064626921777268, -0.016317191123764892]], [[0.10202589073946468, -0.010943226327861905, -0.033591090521888904]], [[0.1388685735064933, 0.011985438359086635, -0.012809260784453366]], [[0.05384699789027334, -0.025013088749398373, 0.012649809405393916]], [[0.058098076671083895, 0.02292866468694854, 0.07037120862496801]], [[-0.1799623350543337, 0.04846285945195965, 0.06505616265631485]], [[0.22814122790352503, 0.005211060156124769, 0.006378055162384045]], [[-0.14878775732838584, 0.034914103046035545, -0.037152171320885705]], [[-0.014170262602703114, 0.0026055300780621995, 0.05697729278396212]], [[-0.17004315123244113, 0.019280922577661237, 0.05841235519549838]], [[0.09919183821892369, -0.045336223358284716, -0.020516077439001912]], [[-0.15303883610919702, 0.004168848124899667, 0.11788771958472764]], [[0.11619615334216843, 0.03439299703042318, 0.00839777263047162]], [[-0.059515102931354716, 0.028660830858685673, -0.03577025936903472]], [[0.14737073106811566, 0.0020844240624498336, 0.007015860678621846]]]\n"
     ]
    }
   ],
   "source": [
    "print(trainning_data)"
   ]
  },
  {
   "cell_type": "code",
   "execution_count": 130,
   "metadata": {},
   "outputs": [
    {
     "name": "stdout",
     "output_type": "stream",
     "text": [
      "[1, -1, -1, -1, 1, 1, 1, 1, -1, 1, -1, 1, 1, 1, -1, 1, -1, 1, -1, -1, -1, 1, -1, 1, -1, 1, -1, 1, 1, -1, -1, -1, 1, -1, -1, -1, -1, 1, 1, -1, 1, 1, 1, 1, 1, -1, -1, -1, -1, -1, -1, -1, 1, 1, 1, 1, -1, 1, -1, 1, -1, 1, -1, -1, -1, -1, 1, -1, 1, 1, -1, 1, 1, 1, 1, -1, 1, -1, 1, -1, 1, 1, -1, -1, -1, 1, -1, -1, 1, 1, 1, -1, -1, 1, -1, 1, -1, 1, 1, -1, 1, -1, -1, -1, -1, 1, 1, 1, 1, -1, -1, -1, 1, -1, -1, 1, 1, 1, 1, 1, -1, -1, -1, -1, -1, 1, -1, -1, -1, 1, 1, 1, 1, 1, 1, 1, -1, 1, 1, 1, -1, -1, 1, 1, -1, 1, 1, -1, -1, -1, 1, 1, 1, 1, 1, -1, 1, 1, -1, -1, -1, 1, -1, 1, -1, -1, 1, 1, -1, 1, 1, 1, 1, -1, 1, 1, 1, 1, 1, -1, -1, 1, 1, 1, -1, -1, 1, 1, -1, -1, 1, -1, -1, 1, -1, -1, -1, 1, -1, -1, -1, 1, -1, 1, 1, 1, 1, -1, 1, -1, 1, -1, 1, 1, 1, 1, 1, -1, -1, -1, -1, -1, -1, -1, -1, -1, 1, -1, -1, -1, -1, 1, -1, -1, -1, 1]\n"
     ]
    }
   ],
   "source": [
    "print(labels)"
   ]
  },
  {
   "cell_type": "code",
   "execution_count": null,
   "metadata": {},
   "outputs": [],
   "source": []
  }
 ],
 "metadata": {
  "kernelspec": {
   "display_name": "Python 3",
   "language": "python",
   "name": "python3"
  },
  "language_info": {
   "codemirror_mode": {
    "name": "ipython",
    "version": 3
   },
   "file_extension": ".py",
   "mimetype": "text/x-python",
   "name": "python",
   "nbconvert_exporter": "python",
   "pygments_lexer": "ipython3",
   "version": "3.7.4"
  }
 },
 "nbformat": 4,
 "nbformat_minor": 2
}
